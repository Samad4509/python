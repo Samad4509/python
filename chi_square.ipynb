{
 "cells": [
  {
   "cell_type": "code",
   "execution_count": 2,
   "id": "75f2112a",
   "metadata": {},
   "outputs": [],
   "source": [
    "import pandas as pd"
   ]
  },
  {
   "cell_type": "code",
   "execution_count": 3,
   "id": "54ece78a",
   "metadata": {},
   "outputs": [],
   "source": [
    "from bioinfokit.analys import stat"
   ]
  },
  {
   "cell_type": "code",
   "execution_count": 14,
   "id": "43f2fcf8",
   "metadata": {},
   "outputs": [],
   "source": [
    "df = pd.read_csv('Student Mental health (updated).csv')"
   ]
  },
  {
   "cell_type": "code",
   "execution_count": 7,
   "id": "74c833be",
   "metadata": {},
   "outputs": [],
   "source": [
    "ctab = pd.crosstab(df['Timestamp'],df['Choose your gender'])"
   ]
  },
  {
   "cell_type": "code",
   "execution_count": 8,
   "id": "46ec6752",
   "metadata": {},
   "outputs": [
    {
     "name": "stdout",
     "output_type": "stream",
     "text": [
      "Choose your gender  Female  Male\n",
      "Timestamp                       \n",
      "08-07-20 12:02           1     0\n",
      "08-07-20 12:04           0     1\n",
      "08-07-20 12:05           0     1\n",
      "08-07-20 12:06           1     0\n",
      "08-07-20 12:13           0     1\n",
      "...                    ...   ...\n",
      "13-07-20 19:56           1     0\n",
      "13-07-20 21:21           0     1\n",
      "13-07-20 21:22           1     0\n",
      "13-07-20 21:23           1     0\n",
      "18-07-20 20:16           0     1\n",
      "\n",
      "[90 rows x 2 columns]\n"
     ]
    }
   ],
   "source": [
    "print(ctab)"
   ]
  },
  {
   "cell_type": "code",
   "execution_count": 9,
   "id": "6223da86",
   "metadata": {},
   "outputs": [],
   "source": [
    "res = stat()"
   ]
  },
  {
   "cell_type": "code",
   "execution_count": 10,
   "id": "0e2fd097",
   "metadata": {},
   "outputs": [],
   "source": [
    "res.chisq(df =ctab)"
   ]
  },
  {
   "cell_type": "code",
   "execution_count": 12,
   "id": "a6838b66",
   "metadata": {},
   "outputs": [
    {
     "name": "stdout",
     "output_type": "stream",
     "text": [
      "\n",
      "Chi-squared test for independence\n",
      "\n",
      "Test              Df    Chi-square    P-value\n",
      "--------------  ----  ------------  ---------\n",
      "Pearson           89       92.2812   0.384829\n",
      "Log-likelihood    89      105.846    0.107484\n",
      "\n"
     ]
    }
   ],
   "source": [
    "print(res.summary)"
   ]
  },
  {
   "cell_type": "code",
   "execution_count": 15,
   "id": "379a88b1",
   "metadata": {},
   "outputs": [
    {
     "name": "stdout",
     "output_type": "stream",
     "text": [
      "Age             18.0  19.0  20.0  21.0  22.0  23.0  24.0\n",
      "Timestamp                                               \n",
      "08-07-20 12:02     1     0     0     0     0     0     0\n",
      "08-07-20 12:04     0     0     0     1     0     0     0\n",
      "08-07-20 12:05     0     1     0     0     0     0     0\n",
      "08-07-20 12:06     0     0     0     0     1     0     0\n",
      "08-07-20 12:13     0     0     0     0     0     1     0\n",
      "...              ...   ...   ...   ...   ...   ...   ...\n",
      "13-07-20 19:56     0     0     0     1     0     0     0\n",
      "13-07-20 21:21     1     0     0     0     0     0     0\n",
      "13-07-20 21:22     0     1     0     0     0     0     0\n",
      "13-07-20 21:23     0     0     0     0     0     1     0\n",
      "18-07-20 20:16     0     0     1     0     0     0     0\n",
      "\n",
      "[89 rows x 7 columns]\n"
     ]
    }
   ],
   "source": [
    "ctab2 = pd.crosstab(df['Timestamp'],df['Age'])\n",
    "print(ctab2)"
   ]
  },
  {
   "cell_type": "code",
   "execution_count": 16,
   "id": "570cad68",
   "metadata": {},
   "outputs": [
    {
     "name": "stdout",
     "output_type": "stream",
     "text": [
      "\n",
      "Chi-squared test for independence\n",
      "\n",
      "Test              Df    Chi-square    P-value\n",
      "--------------  ----  ------------  ---------\n",
      "Pearson          528       530.099   0.466129\n",
      "Log-likelihood   528       302.524   1\n",
      "\n"
     ]
    }
   ],
   "source": [
    "res = stat()\n",
    "res.chisq(df =ctab2)\n",
    "print(res.summary)"
   ]
  },
  {
   "cell_type": "code",
   "execution_count": 17,
   "id": "1ab7aec8",
   "metadata": {},
   "outputs": [
    {
     "name": "stdout",
     "output_type": "stream",
     "text": [
      "What is your course?  ALA  Accounting   BCS  BENL  BIT  Banking Studies  Benl  \\\n",
      "Timestamp                                                                       \n",
      "08-07-20 12:02          0            0    0     0    0                0     0   \n",
      "08-07-20 12:04          0            0    0     0    0                0     0   \n",
      "08-07-20 12:05          0            0    0     0    1                0     0   \n",
      "08-07-20 12:06          0            0    0     0    0                0     0   \n",
      "08-07-20 12:13          0            0    0     0    0                0     0   \n",
      "...                   ...          ...  ...   ...  ...              ...   ...   \n",
      "13-07-20 19:56          0            0    1     0    0                0     0   \n",
      "13-07-20 21:21          0            0    0     0    0                0     0   \n",
      "13-07-20 21:22          0            0    0     0    0                0     0   \n",
      "13-07-20 21:23          0            0    0     0    0                0     0   \n",
      "18-07-20 20:16          0            0    0     0    0                0     0   \n",
      "\n",
      "What is your course?  Biomedical science  Biotechnology  \\\n",
      "Timestamp                                                 \n",
      "08-07-20 12:02                         0              0   \n",
      "08-07-20 12:04                         0              0   \n",
      "08-07-20 12:05                         0              0   \n",
      "08-07-20 12:06                         0              0   \n",
      "08-07-20 12:13                         0              0   \n",
      "...                                  ...            ...   \n",
      "13-07-20 19:56                         0              0   \n",
      "13-07-20 21:21                         0              0   \n",
      "13-07-20 21:22                         0              0   \n",
      "13-07-20 21:23                         0              0   \n",
      "18-07-20 20:16                         1              0   \n",
      "\n",
      "What is your course?  Business Administration  ...  Pendidikan Islam  \\\n",
      "Timestamp                                      ...                     \n",
      "08-07-20 12:02                              0  ...                 0   \n",
      "08-07-20 12:04                              0  ...                 0   \n",
      "08-07-20 12:05                              0  ...                 0   \n",
      "08-07-20 12:06                              0  ...                 0   \n",
      "08-07-20 12:13                              0  ...                 0   \n",
      "...                                       ...  ...               ...   \n",
      "13-07-20 19:56                              0  ...                 0   \n",
      "13-07-20 21:21                              0  ...                 0   \n",
      "13-07-20 21:22                              0  ...                 0   \n",
      "13-07-20 21:23                              0  ...                 1   \n",
      "18-07-20 20:16                              0  ...                 0   \n",
      "\n",
      "What is your course?  Pendidikan Islam   Pendidikan islam  Psychology  \\\n",
      "Timestamp                                                               \n",
      "08-07-20 12:02                        0                 0           0   \n",
      "08-07-20 12:04                        0                 0           0   \n",
      "08-07-20 12:05                        0                 0           0   \n",
      "08-07-20 12:06                        0                 0           0   \n",
      "08-07-20 12:13                        0                 0           0   \n",
      "...                                 ...               ...         ...   \n",
      "13-07-20 19:56                        0                 0           0   \n",
      "13-07-20 21:21                        0                 0           0   \n",
      "13-07-20 21:22                        0                 0           0   \n",
      "13-07-20 21:23                        0                 0           0   \n",
      "18-07-20 20:16                        0                 0           0   \n",
      "\n",
      "What is your course?  Radiography  TAASL  Usuluddin   engin  koe  psychology  \n",
      "Timestamp                                                                     \n",
      "08-07-20 12:02                  0      0           0      0    0           0  \n",
      "08-07-20 12:04                  0      0           0      0    0           0  \n",
      "08-07-20 12:05                  0      0           0      0    0           0  \n",
      "08-07-20 12:06                  0      0           0      0    0           0  \n",
      "08-07-20 12:13                  0      0           0      0    0           0  \n",
      "...                           ...    ...         ...    ...  ...         ...  \n",
      "13-07-20 19:56                  0      0           0      0    0           0  \n",
      "13-07-20 21:21                  0      0           0      0    0           0  \n",
      "13-07-20 21:22                  0      0           0      0    0           0  \n",
      "13-07-20 21:23                  0      0           0      0    0           0  \n",
      "18-07-20 20:16                  0      0           0      0    0           0  \n",
      "\n",
      "[90 rows x 49 columns]\n"
     ]
    }
   ],
   "source": [
    "ctab3 = pd.crosstab(df['Timestamp'],df['What is your course?'])\n",
    "print(ctab3)"
   ]
  },
  {
   "cell_type": "code",
   "execution_count": 18,
   "id": "c2310289",
   "metadata": {},
   "outputs": [
    {
     "name": "stdout",
     "output_type": "stream",
     "text": [
      "\n",
      "Chi-squared test for independence\n",
      "\n",
      "Test              Df    Chi-square    P-value\n",
      "--------------  ----  ------------  ---------\n",
      "Pearson         4272       4311.46   0.332571\n",
      "Log-likelihood  4272        622.73   1\n",
      "\n"
     ]
    }
   ],
   "source": [
    "res = stat()\n",
    "res.chisq(df =ctab3)\n",
    "print(res.summary)"
   ]
  },
  {
   "cell_type": "code",
   "execution_count": 19,
   "id": "2f3a0b2a",
   "metadata": {},
   "outputs": [
    {
     "name": "stdout",
     "output_type": "stream",
     "text": [
      "Your current year of Study  Year 1  Year 2  Year 3  year 1  year 2  year 3  \\\n",
      "Timestamp                                                                    \n",
      "08-07-20 12:02                   0       0       0       1       0       0   \n",
      "08-07-20 12:04                   0       0       0       0       1       0   \n",
      "08-07-20 12:05                   1       0       0       0       0       0   \n",
      "08-07-20 12:06                   0       0       0       0       0       1   \n",
      "08-07-20 12:13                   0       0       0       0       0       0   \n",
      "...                            ...     ...     ...     ...     ...     ...   \n",
      "13-07-20 19:56                   0       0       0       1       0       0   \n",
      "13-07-20 21:21                   0       1       0       0       0       0   \n",
      "13-07-20 21:22                   0       0       1       0       0       0   \n",
      "13-07-20 21:23                   0       0       0       0       0       0   \n",
      "18-07-20 20:16                   0       1       0       0       0       0   \n",
      "\n",
      "Your current year of Study  year 4  \n",
      "Timestamp                           \n",
      "08-07-20 12:02                   0  \n",
      "08-07-20 12:04                   0  \n",
      "08-07-20 12:05                   0  \n",
      "08-07-20 12:06                   0  \n",
      "08-07-20 12:13                   1  \n",
      "...                            ...  \n",
      "13-07-20 19:56                   0  \n",
      "13-07-20 21:21                   0  \n",
      "13-07-20 21:22                   0  \n",
      "13-07-20 21:23                   1  \n",
      "18-07-20 20:16                   0  \n",
      "\n",
      "[90 rows x 7 columns]\n"
     ]
    }
   ],
   "source": [
    "ctab4=pd.crosstab(df['Timestamp'],df['Your current year of Study'])\n",
    "print(ctab4)"
   ]
  },
  {
   "cell_type": "code",
   "execution_count": 20,
   "id": "1f95bd72",
   "metadata": {},
   "outputs": [
    {
     "name": "stdout",
     "output_type": "stream",
     "text": [
      "\n",
      "Chi-squared test for independence\n",
      "\n",
      "Test              Df    Chi-square    P-value\n",
      "--------------  ----  ------------  ---------\n",
      "Pearson          534       543.634   0.376984\n",
      "Log-likelihood   534       299.121   1\n",
      "\n"
     ]
    }
   ],
   "source": [
    "res = stat()\n",
    "res.chisq(df =ctab4)\n",
    "print(res.summary)"
   ]
  },
  {
   "cell_type": "code",
   "execution_count": 25,
   "id": "b6f4f134",
   "metadata": {},
   "outputs": [
    {
     "name": "stdout",
     "output_type": "stream",
     "text": [
      "What is your CGPA?  0 - 1.99  2.00 - 2.49  2.50 - 2.99  3.00 - 3.49  \\\n",
      "Timestamp                                                             \n",
      "08-07-20 12:02             0            0            0            1   \n",
      "08-07-20 12:04             0            0            0            1   \n",
      "08-07-20 12:05             0            0            0            1   \n",
      "08-07-20 12:06             0            0            0            1   \n",
      "08-07-20 12:13             0            0            0            1   \n",
      "...                      ...          ...          ...          ...   \n",
      "13-07-20 19:56             0            0            0            0   \n",
      "13-07-20 21:21             0            0            0            1   \n",
      "13-07-20 21:22             0            0            0            0   \n",
      "13-07-20 21:23             0            0            0            0   \n",
      "18-07-20 20:16             0            0            0            1   \n",
      "\n",
      "What is your CGPA?  3.50 - 4.00  3.50 - 4.00   \n",
      "Timestamp                                      \n",
      "08-07-20 12:02                0             0  \n",
      "08-07-20 12:04                0             0  \n",
      "08-07-20 12:05                0             0  \n",
      "08-07-20 12:06                0             0  \n",
      "08-07-20 12:13                0             0  \n",
      "...                         ...           ...  \n",
      "13-07-20 19:56                1             0  \n",
      "13-07-20 21:21                0             0  \n",
      "13-07-20 21:22                1             0  \n",
      "13-07-20 21:23                1             0  \n",
      "18-07-20 20:16                0             0  \n",
      "\n",
      "[90 rows x 6 columns]\n"
     ]
    }
   ],
   "source": [
    "ctab5=pd.crosstab(df['Timestamp'],df['What is your CGPA?'])\n",
    "print(ctab5)"
   ]
  },
  {
   "cell_type": "code",
   "execution_count": 26,
   "id": "31a0fc56",
   "metadata": {},
   "outputs": [
    {
     "name": "stdout",
     "output_type": "stream",
     "text": [
      "\n",
      "Chi-squared test for independence\n",
      "\n",
      "Test              Df    Chi-square    P-value\n",
      "--------------  ----  ------------  ---------\n",
      "Pearson          445       466.582   0.231383\n",
      "Log-likelihood   445       204.242   1\n",
      "\n"
     ]
    }
   ],
   "source": [
    "res = stat()\n",
    "res.chisq(df =ctab5)\n",
    "print(res.summary)"
   ]
  },
  {
   "cell_type": "code",
   "execution_count": 28,
   "id": "27b5c23e",
   "metadata": {},
   "outputs": [
    {
     "name": "stdout",
     "output_type": "stream",
     "text": [
      "CGPA Category   Average  Bad  Excellent  Fail\n",
      "Timestamp                                    \n",
      "08-07-20 12:02        1    0          0     0\n",
      "08-07-20 12:04        1    0          0     0\n",
      "08-07-20 12:05        1    0          0     0\n",
      "08-07-20 12:06        1    0          0     0\n",
      "08-07-20 12:13        1    0          0     0\n",
      "...                 ...  ...        ...   ...\n",
      "13-07-20 19:56        0    0          1     0\n",
      "13-07-20 21:21        1    0          0     0\n",
      "13-07-20 21:22        0    0          1     0\n",
      "13-07-20 21:23        0    0          1     0\n",
      "18-07-20 20:16        1    0          0     0\n",
      "\n",
      "[90 rows x 4 columns]\n"
     ]
    }
   ],
   "source": [
    "ctab6=pd.crosstab(df['Timestamp'],df['CGPA Category'])\n",
    "print(ctab6)"
   ]
  },
  {
   "cell_type": "code",
   "execution_count": 29,
   "id": "3e29eb46",
   "metadata": {},
   "outputs": [
    {
     "name": "stdout",
     "output_type": "stream",
     "text": [
      "\n",
      "Chi-squared test for independence\n",
      "\n",
      "Test              Df    Chi-square    P-value\n",
      "--------------  ----  ------------  ---------\n",
      "Pearson          267       281.534   0.258939\n",
      "Log-likelihood   267       186.882   0.999944\n",
      "\n"
     ]
    }
   ],
   "source": [
    "res = stat()\n",
    "res.chisq(df =ctab6)\n",
    "print(res.summary)"
   ]
  },
  {
   "cell_type": "code",
   "execution_count": 31,
   "id": "1f35a1b7",
   "metadata": {},
   "outputs": [
    {
     "name": "stdout",
     "output_type": "stream",
     "text": [
      "Marital status  No  Yes\n",
      "Timestamp              \n",
      "08-07-20 12:02   1    0\n",
      "08-07-20 12:04   1    0\n",
      "08-07-20 12:05   1    0\n",
      "08-07-20 12:06   0    1\n",
      "08-07-20 12:13   1    0\n",
      "...             ..  ...\n",
      "13-07-20 19:56   1    0\n",
      "13-07-20 21:21   1    0\n",
      "13-07-20 21:22   0    1\n",
      "13-07-20 21:23   1    0\n",
      "18-07-20 20:16   1    0\n",
      "\n",
      "[90 rows x 2 columns]\n"
     ]
    }
   ],
   "source": [
    "ctab7=pd.crosstab(df['Timestamp'],df['Marital status'])\n",
    "print(ctab7)"
   ]
  },
  {
   "cell_type": "code",
   "execution_count": 32,
   "id": "0ef323f2",
   "metadata": {},
   "outputs": [
    {
     "name": "stdout",
     "output_type": "stream",
     "text": [
      "\n",
      "Chi-squared test for independence\n",
      "\n",
      "Test              Df    Chi-square    P-value\n",
      "--------------  ----  ------------  ---------\n",
      "Pearson           89       95.9995   0.287345\n",
      "Log-likelihood    89       84.4617   0.61635\n",
      "\n"
     ]
    }
   ],
   "source": [
    "res = stat()\n",
    "res.chisq(df =ctab7)\n",
    "print(res.summary)"
   ]
  },
  {
   "cell_type": "code",
   "execution_count": 33,
   "id": "bf790bc0",
   "metadata": {},
   "outputs": [
    {
     "name": "stdout",
     "output_type": "stream",
     "text": [
      "Do you have Depression?  No  Yes\n",
      "Timestamp                       \n",
      "08-07-20 12:02            0    1\n",
      "08-07-20 12:04            1    0\n",
      "08-07-20 12:05            0    1\n",
      "08-07-20 12:06            0    1\n",
      "08-07-20 12:13            1    0\n",
      "...                      ..  ...\n",
      "13-07-20 19:56            1    0\n",
      "13-07-20 21:21            0    1\n",
      "13-07-20 21:22            0    1\n",
      "13-07-20 21:23            1    0\n",
      "18-07-20 20:16            1    0\n",
      "\n",
      "[90 rows x 2 columns]\n"
     ]
    }
   ],
   "source": [
    "ctab8=pd.crosstab(df['Timestamp'],df['Do you have Depression?'])\n",
    "print(ctab8)"
   ]
  },
  {
   "cell_type": "code",
   "execution_count": 34,
   "id": "07e06fcd",
   "metadata": {},
   "outputs": [
    {
     "name": "stdout",
     "output_type": "stream",
     "text": [
      "\n",
      "Chi-squared test for independence\n",
      "\n",
      "Test              Df    Chi-square    P-value\n",
      "--------------  ----  ------------  ---------\n",
      "Pearson           89        90.696   0.430054\n",
      "Log-likelihood    89       117.162   0.024374\n",
      "\n"
     ]
    }
   ],
   "source": [
    "res = stat()\n",
    "res.chisq(df =ctab8)\n",
    "print(res.summary)"
   ]
  },
  {
   "cell_type": "code",
   "execution_count": 35,
   "id": "6fcfccd7",
   "metadata": {},
   "outputs": [
    {
     "name": "stdout",
     "output_type": "stream",
     "text": [
      "Do you have Anxiety?  No  Yes\n",
      "Timestamp                    \n",
      "08-07-20 12:02         1    0\n",
      "08-07-20 12:04         0    1\n",
      "08-07-20 12:05         0    1\n",
      "08-07-20 12:06         1    0\n",
      "08-07-20 12:13         1    0\n",
      "...                   ..  ...\n",
      "13-07-20 19:56         0    1\n",
      "13-07-20 21:21         0    1\n",
      "13-07-20 21:22         1    0\n",
      "13-07-20 21:23         1    0\n",
      "18-07-20 20:16         1    0\n",
      "\n",
      "[90 rows x 2 columns]\n"
     ]
    }
   ],
   "source": [
    "ctab9=pd.crosstab(df['Timestamp'],df['Do you have Anxiety?'])\n",
    "print(ctab9)"
   ]
  },
  {
   "cell_type": "code",
   "execution_count": 36,
   "id": "57434570",
   "metadata": {},
   "outputs": [
    {
     "name": "stdout",
     "output_type": "stream",
     "text": [
      "\n",
      "Chi-squared test for independence\n",
      "\n",
      "Test              Df    Chi-square    P-value\n",
      "--------------  ----  ------------  ---------\n",
      "Pearson           89       88.3122  0.500662\n",
      "Log-likelihood    89      113.077   0.0433986\n",
      "\n"
     ]
    }
   ],
   "source": [
    "res = stat()\n",
    "res.chisq(df =ctab9)\n",
    "print(res.summary)"
   ]
  },
  {
   "cell_type": "code",
   "execution_count": 39,
   "id": "ac92310c",
   "metadata": {},
   "outputs": [
    {
     "name": "stdout",
     "output_type": "stream",
     "text": [
      "Do you have Panic attack?  No  Yes\n",
      "Timestamp                         \n",
      "08-07-20 12:02              0    1\n",
      "08-07-20 12:04              1    0\n",
      "08-07-20 12:05              0    1\n",
      "08-07-20 12:06              1    0\n",
      "08-07-20 12:13              1    0\n",
      "...                        ..  ...\n",
      "13-07-20 19:56              1    0\n",
      "13-07-20 21:21              1    0\n",
      "13-07-20 21:22              0    1\n",
      "13-07-20 21:23              1    0\n",
      "18-07-20 20:16              1    0\n",
      "\n",
      "[90 rows x 2 columns]\n"
     ]
    }
   ],
   "source": [
    "ctab10=pd.crosstab(df['Timestamp'],df['Do you have Panic attack?'])\n",
    "print(ctab10)"
   ]
  },
  {
   "cell_type": "code",
   "execution_count": 40,
   "id": "87bb800d",
   "metadata": {},
   "outputs": [
    {
     "name": "stdout",
     "output_type": "stream",
     "text": [
      "\n",
      "Chi-squared test for independence\n",
      "\n",
      "Test              Df    Chi-square    P-value\n",
      "--------------  ----  ------------  ---------\n",
      "Pearson           89       93.4235  0.353455\n",
      "Log-likelihood    89      118.268   0.0206925\n",
      "\n"
     ]
    }
   ],
   "source": [
    "res = stat()\n",
    "res.chisq(df =ctab10)\n",
    "print(res.summary)"
   ]
  },
  {
   "cell_type": "code",
   "execution_count": 41,
   "id": "ae224b94",
   "metadata": {},
   "outputs": [
    {
     "name": "stdout",
     "output_type": "stream",
     "text": [
      "Did you seek any specialist for a treatment?  No  Yes\n",
      "Timestamp                                            \n",
      "08-07-20 12:02                                 1    0\n",
      "08-07-20 12:04                                 1    0\n",
      "08-07-20 12:05                                 1    0\n",
      "08-07-20 12:06                                 1    0\n",
      "08-07-20 12:13                                 1    0\n",
      "...                                           ..  ...\n",
      "13-07-20 19:56                                 1    0\n",
      "13-07-20 21:21                                 1    0\n",
      "13-07-20 21:22                                 1    0\n",
      "13-07-20 21:23                                 1    0\n",
      "18-07-20 20:16                                 1    0\n",
      "\n",
      "[90 rows x 2 columns]\n"
     ]
    }
   ],
   "source": [
    "ctab11=pd.crosstab(df['Timestamp'],df['Did you seek any specialist for a treatment?'])\n",
    "print(ctab11)"
   ]
  },
  {
   "cell_type": "code",
   "execution_count": 42,
   "id": "f50e3745",
   "metadata": {},
   "outputs": [
    {
     "name": "stdout",
     "output_type": "stream",
     "text": [
      "\n",
      "Chi-squared test for independence\n",
      "\n",
      "Test              Df    Chi-square    P-value\n",
      "--------------  ----  ------------  ---------\n",
      "Pearson           89      101        0.181048\n",
      "Log-likelihood    89       45.5166   0.999964\n",
      "\n"
     ]
    }
   ],
   "source": [
    "res = stat()\n",
    "res.chisq(df =ctab11)\n",
    "print(res.summary)"
   ]
  },
  {
   "cell_type": "code",
   "execution_count": null,
   "id": "ca9ce321",
   "metadata": {},
   "outputs": [],
   "source": []
  }
 ],
 "metadata": {
  "kernelspec": {
   "display_name": "Python 3 (ipykernel)",
   "language": "python",
   "name": "python3"
  },
  "language_info": {
   "codemirror_mode": {
    "name": "ipython",
    "version": 3
   },
   "file_extension": ".py",
   "mimetype": "text/x-python",
   "name": "python",
   "nbconvert_exporter": "python",
   "pygments_lexer": "ipython3",
   "version": "3.9.13"
  }
 },
 "nbformat": 4,
 "nbformat_minor": 5
}
